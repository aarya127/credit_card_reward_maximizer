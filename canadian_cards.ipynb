{
 "cells": [
  {
   "cell_type": "code",
   "execution_count": 10,
   "metadata": {},
   "outputs": [
    {
     "name": "stdout",
     "output_type": "stream",
     "text": [
      "Requirement already satisfied: pdfplumber in /Users/aaryas127/Documents/GitHub/stock_predictor/.conda/lib/python3.12/site-packages (0.11.4)\n",
      "Requirement already satisfied: pyspark in /Users/aaryas127/Documents/GitHub/stock_predictor/.conda/lib/python3.12/site-packages (3.5.3)\n",
      "Collecting openai\n",
      "  Downloading openai-1.55.1-py3-none-any.whl.metadata (24 kB)\n",
      "Requirement already satisfied: pdfminer.six==20231228 in /Users/aaryas127/Documents/GitHub/stock_predictor/.conda/lib/python3.12/site-packages (from pdfplumber) (20231228)\n",
      "Requirement already satisfied: Pillow>=9.1 in /Users/aaryas127/Documents/GitHub/stock_predictor/.conda/lib/python3.12/site-packages (from pdfplumber) (11.0.0)\n",
      "Requirement already satisfied: pypdfium2>=4.18.0 in /Users/aaryas127/Documents/GitHub/stock_predictor/.conda/lib/python3.12/site-packages (from pdfplumber) (4.30.0)\n",
      "Requirement already satisfied: charset-normalizer>=2.0.0 in /Users/aaryas127/Documents/GitHub/stock_predictor/.conda/lib/python3.12/site-packages (from pdfminer.six==20231228->pdfplumber) (3.4.0)\n",
      "Requirement already satisfied: cryptography>=36.0.0 in /Users/aaryas127/Documents/GitHub/stock_predictor/.conda/lib/python3.12/site-packages (from pdfminer.six==20231228->pdfplumber) (43.0.3)\n",
      "Requirement already satisfied: py4j==0.10.9.7 in /Users/aaryas127/Documents/GitHub/stock_predictor/.conda/lib/python3.12/site-packages (from pyspark) (0.10.9.7)\n",
      "Collecting anyio<5,>=3.5.0 (from openai)\n",
      "  Using cached anyio-4.6.2.post1-py3-none-any.whl.metadata (4.7 kB)\n",
      "Collecting distro<2,>=1.7.0 (from openai)\n",
      "  Downloading distro-1.9.0-py3-none-any.whl.metadata (6.8 kB)\n",
      "Collecting httpx<1,>=0.23.0 (from openai)\n",
      "  Using cached httpx-0.27.2-py3-none-any.whl.metadata (7.1 kB)\n",
      "Collecting jiter<1,>=0.4.0 (from openai)\n",
      "  Downloading jiter-0.7.1-cp312-cp312-macosx_11_0_arm64.whl.metadata (5.2 kB)\n",
      "Collecting pydantic<3,>=1.9.0 (from openai)\n",
      "  Downloading pydantic-2.10.2-py3-none-any.whl.metadata (170 kB)\n",
      "Collecting sniffio (from openai)\n",
      "  Using cached sniffio-1.3.1-py3-none-any.whl.metadata (3.9 kB)\n",
      "Collecting tqdm>4 (from openai)\n",
      "  Downloading tqdm-4.67.1-py3-none-any.whl.metadata (57 kB)\n",
      "Requirement already satisfied: typing-extensions<5,>=4.11 in /Users/aaryas127/Documents/GitHub/stock_predictor/.conda/lib/python3.12/site-packages (from openai) (4.12.2)\n",
      "Collecting idna>=2.8 (from anyio<5,>=3.5.0->openai)\n",
      "  Using cached idna-3.10-py3-none-any.whl.metadata (10 kB)\n",
      "Collecting certifi (from httpx<1,>=0.23.0->openai)\n",
      "  Using cached certifi-2024.8.30-py3-none-any.whl.metadata (2.2 kB)\n",
      "Collecting httpcore==1.* (from httpx<1,>=0.23.0->openai)\n",
      "  Downloading httpcore-1.0.7-py3-none-any.whl.metadata (21 kB)\n",
      "Collecting h11<0.15,>=0.13 (from httpcore==1.*->httpx<1,>=0.23.0->openai)\n",
      "  Using cached h11-0.14.0-py3-none-any.whl.metadata (8.2 kB)\n",
      "Collecting annotated-types>=0.6.0 (from pydantic<3,>=1.9.0->openai)\n",
      "  Downloading annotated_types-0.7.0-py3-none-any.whl.metadata (15 kB)\n",
      "Collecting pydantic-core==2.27.1 (from pydantic<3,>=1.9.0->openai)\n",
      "  Downloading pydantic_core-2.27.1-cp312-cp312-macosx_11_0_arm64.whl.metadata (6.6 kB)\n",
      "Requirement already satisfied: cffi>=1.12 in /Users/aaryas127/Documents/GitHub/stock_predictor/.conda/lib/python3.12/site-packages (from cryptography>=36.0.0->pdfminer.six==20231228->pdfplumber) (1.17.1)\n",
      "Requirement already satisfied: pycparser in /Users/aaryas127/Documents/GitHub/stock_predictor/.conda/lib/python3.12/site-packages (from cffi>=1.12->cryptography>=36.0.0->pdfminer.six==20231228->pdfplumber) (2.22)\n",
      "Downloading openai-1.55.1-py3-none-any.whl (389 kB)\n",
      "Using cached anyio-4.6.2.post1-py3-none-any.whl (90 kB)\n",
      "Downloading distro-1.9.0-py3-none-any.whl (20 kB)\n",
      "Using cached httpx-0.27.2-py3-none-any.whl (76 kB)\n",
      "Downloading httpcore-1.0.7-py3-none-any.whl (78 kB)\n",
      "Downloading jiter-0.7.1-cp312-cp312-macosx_11_0_arm64.whl (304 kB)\n",
      "Downloading pydantic-2.10.2-py3-none-any.whl (456 kB)\n",
      "Downloading pydantic_core-2.27.1-cp312-cp312-macosx_11_0_arm64.whl (1.8 MB)\n",
      "\u001b[2K   \u001b[90m━━━━━━━━━━━━━━━━━━━━━━━━━━━━━━━━━━━━━━━━\u001b[0m \u001b[32m1.8/1.8 MB\u001b[0m \u001b[31m21.0 MB/s\u001b[0m eta \u001b[36m0:00:00\u001b[0m\n",
      "\u001b[?25hUsing cached sniffio-1.3.1-py3-none-any.whl (10 kB)\n",
      "Downloading tqdm-4.67.1-py3-none-any.whl (78 kB)\n",
      "Downloading annotated_types-0.7.0-py3-none-any.whl (13 kB)\n",
      "Using cached idna-3.10-py3-none-any.whl (70 kB)\n",
      "Using cached certifi-2024.8.30-py3-none-any.whl (167 kB)\n",
      "Using cached h11-0.14.0-py3-none-any.whl (58 kB)\n",
      "Installing collected packages: tqdm, sniffio, pydantic-core, jiter, idna, h11, distro, certifi, annotated-types, pydantic, httpcore, anyio, httpx, openai\n",
      "Successfully installed annotated-types-0.7.0 anyio-4.6.2.post1 certifi-2024.8.30 distro-1.9.0 h11-0.14.0 httpcore-1.0.7 httpx-0.27.2 idna-3.10 jiter-0.7.1 openai-1.55.1 pydantic-2.10.2 pydantic-core-2.27.1 sniffio-1.3.1 tqdm-4.67.1\n",
      "Note: you may need to restart the kernel to use updated packages.\n"
     ]
    }
   ],
   "source": [
    "pip install pdfplumber pyspark openai"
   ]
  },
  {
   "cell_type": "code",
   "execution_count": 11,
   "metadata": {},
   "outputs": [
    {
     "name": "stdout",
     "output_type": "stream",
     "text": [
      "+------------------------------------------------------------+-----------------------------------------------+-------------+--------------------------+-------+\n",
      "|Card Name                                                   |Bank                                           |Annual Fee   |Purchase Interest Rate (%)|Rewards|\n",
      "+------------------------------------------------------------+-----------------------------------------------+-------------+--------------------------+-------+\n",
      "|Desjardins Flexi Visa                                       |Desjardins                                     |No annual fee|10.9                      |NULL   |\n",
      "|MBNA True Line® Mastercard®                                 |MBNA is a division of The Toronto-Dominion Bank|No annual fee|12.99                     |NULL   |\n",
      "|Coast Capital Collabria Classic Mastercard                  |Coast Capital Savings                          |No annual fee|13.99                     |NULL   |\n",
      "|Tangerine Money-Back Credit Card                            |Tangerine Bank                                 |No annual fee|19.95                     |       |\n",
      "|Tangerine World Mastercard                                  |Tangerine Bank                                 |No annual fee|19.95                     |       |\n",
      "|Coast Capital Collabria No Fee Cash Back Business Mastercard|Coast Capital Savings                          |No annual fee|19.99                     |       |\n",
      "|Amazon.ca Rewards Mastercard®                               |MBNA is a division of The Toronto-Dominion Bank|No annual fee|19.99                     |       |\n",
      "|MBNA Smart Cash® Platinum Plus® Mastercard®                 |MBNA is a division of The Toronto-Dominion Bank|No annual fee|19.99                     |       |\n",
      "|Scotia Momentum No-Fee VISA card                            |Scotiabank                                     |No annual fee|19.99                     |       |\n",
      "|Scotiabank American Express® Card                           |Scotiabank                                     |No annual fee|19.99                     |       |\n",
      "|TD Cash Back Visa* Card                                     |The Toronto-Dominion Bank                      |No annual fee|19.99                     |       |\n",
      "|TD Rewards Visa* Card                                       |The Toronto-Dominion Bank                      |No annual fee|19.99                     |       |\n",
      "|Desjardins Bonus Visa                                       |Desjardins                                     |No annual fee|20.9                      |       |\n",
      "|Desjardins Cash Back Mastercard                             |Desjardins                                     |No annual fee|20.9                      |       |\n",
      "|Desjardins Cash Back Visa                                   |Desjardins                                     |No annual fee|20.9                      |       |\n",
      "|BMO AIR MILES MasterCard                                    |BMO Bank of Montreal                           |No annual fee|20.99                     |       |\n",
      "|BMO CashBack Mastercard                                     |BMO Bank of Montreal                           |No annual fee|20.99                     |       |\n",
      "|BMO eclipse rise Visa Card                                  |BMO Bank of Montreal                           |No annual fee|20.99                     |       |\n",
      "|CIBC Aeroplan Visa Card                                     |CIBC                                           |No annual fee|20.99                     |       |\n",
      "|CIBC Aventura VISA Card                                     |CIBC                                           |No annual fee|20.99                     |       |\n",
      "+------------------------------------------------------------+-----------------------------------------------+-------------+--------------------------+-------+\n",
      "only showing top 20 rows\n",
      "\n"
     ]
    }
   ],
   "source": [
    "import pdfplumber\n",
    "from pyspark.sql import SparkSession\n",
    "from pyspark.sql.types import StructType, StructField, StringType, FloatType\n",
    "\n",
    "# Initialize Spark session\n",
    "spark = SparkSession.builder.appName(\"PDFToSpark\").getOrCreate()\n",
    "\n",
    "# Define schema for the Spark DataFrame\n",
    "schema = StructType([\n",
    "    StructField(\"Card Name\", StringType(), True),\n",
    "    StructField(\"Bank\", StringType(), True),\n",
    "    StructField(\"Annual Fee\", StringType(), True),  # Keep as String to accommodate \"No annual fee\"\n",
    "    StructField(\"Purchase Interest Rate (%)\", FloatType(), True),\n",
    "    StructField(\"Rewards\", StringType(), True)\n",
    "])\n",
    "\n",
    "def extract_pdf_data(file_path):\n",
    "    \"\"\"\n",
    "    Extracts data from the credit card PDF and structures it for Spark DataFrame.\n",
    "    \"\"\"\n",
    "    data = []\n",
    "    with pdfplumber.open(file_path) as pdf:\n",
    "        for page in pdf.pages:\n",
    "            text = page.extract_text()\n",
    "            lines = text.split(\"\\n\")\n",
    "            \n",
    "            # Parse lines for credit card information\n",
    "            for i in range(len(lines)):\n",
    "                if \"%\" in lines[i]:  # Heuristic: look for interest rate\n",
    "                    # Extract card details (sample parsing logic, adjust as needed)\n",
    "                    try:\n",
    "                        card_name = lines[i - 3].strip()\n",
    "                        bank = lines[i - 2].strip()\n",
    "                        annual_fee = lines[i + 1].split(\" \")[0].strip() if \"fee\" in lines[i + 1].lower() else \"No annual fee\"\n",
    "                        interest_rate = float(lines[i].split(\"%\")[0].strip())\n",
    "                        rewards = None\n",
    "                        \n",
    "                        # Check for rewards (look at subsequent lines)\n",
    "                        rewards_lines = []\n",
    "                        j = i + 2\n",
    "                        while j < len(lines) and \":\" in lines[j]:\n",
    "                            rewards_lines.append(lines[j].split(\":\")[1].strip())\n",
    "                            j += 1\n",
    "                        \n",
    "                        if rewards_lines:\n",
    "                            rewards = \", \".join(rewards_lines)\n",
    "                        \n",
    "                        # Append to data\n",
    "                        data.append((card_name, bank, annual_fee, interest_rate, rewards))\n",
    "                    except Exception as e:\n",
    "                        print(f\"Skipping line due to parsing error: {e}\")\n",
    "                        continue\n",
    "    return data\n",
    "\n",
    "# Path to the PDF file\n",
    "pdf_path = \"/Users/aaryas127/Documents/GitHub/credit_card_reward_maximizer/SearchCreditCard-eng.pdf\"\n",
    "\n",
    "# Extract data from the PDF\n",
    "parsed_data = extract_pdf_data(pdf_path)\n",
    "\n",
    "# Create a Spark DataFrame from the parsed data\n",
    "df = spark.createDataFrame(parsed_data, schema=schema)\n",
    "\n",
    "# Show the DataFrame\n",
    "df.show(truncate=False)\n"
   ]
  },
  {
   "cell_type": "code",
   "execution_count": 12,
   "metadata": {},
   "outputs": [
    {
     "data": {
      "text/plain": [
       "'Desjardins Flexi Visa'"
      ]
     },
     "execution_count": 12,
     "metadata": {},
     "output_type": "execute_result"
    }
   ],
   "source": [
    "df.first()[\"Card Name\"]"
   ]
  },
  {
   "cell_type": "markdown",
   "metadata": {},
   "source": [
    "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"
   ]
  },
  {
   "cell_type": "code",
   "execution_count": null,
   "metadata": {},
   "outputs": [
    {
     "name": "stdout",
     "output_type": "stream",
     "text": [
      "According to the Desjardins website, the Desjardins Flexi Visa card does offer cashback rewards, but the specifics may vary depending on the card's terms and conditions.\n",
      "\n",
      "Here's what I found:\n",
      "\n",
      "* The Desjardins Flexi Visa card offers 1% cashback on most purchases, with no rotating categories or spending limits.\n",
      "* You can also earn bonus cashback rates on certain categories, such as:\n",
      "\t+ 2% cashback on grocery purchases (some conditions apply)\n",
      "\t+ 2% cashback on recurring bill payments (some conditions apply)\n",
      "* Cashback rewards are credited to your account annually, in January of each year.\n",
      "\n",
      "Please note that these details are subject to change, and you should always check the Desjardins website or consult with a representative for the most up-to-date information on the Flexi Visa card's cashback rewards program.\n",
      "\n",
      "Would you like me to look into any other features or benefits of the Desjardins Flexi Visa card?"
     ]
    }
   ],
   "source": [
    "# Cashback\n",
    "\n",
    "from openai import OpenAI\n",
    "\n",
    "client = OpenAI(\n",
    "  base_url = \"https://integrate.api.nvidia.com/v1\",\n",
    "  api_key = \"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\"\n",
    ")\n",
    "\n",
    "completion = client.chat.completions.create(\n",
    "  model=\"meta/llama-3.1-405b-instruct\",\n",
    "  messages=[{\"role\":\"user\",\"content\":\"Does the Desjardins Flexi Visa have cashbacks?\"}],\n",
    "  temperature=0.2,\n",
    "  top_p=0.7,\n",
    "  max_tokens=1024,\n",
    "  stream=True\n",
    ")\n",
    "\n",
    "for chunk in completion:\n",
    "  if chunk.choices[0].delta.content is not None:\n",
    "    print(chunk.choices[0].delta.content, end=\"\")"
   ]
  },
  {
   "cell_type": "code",
   "execution_count": 19,
   "metadata": {},
   "outputs": [
    {
     "name": "stdout",
     "output_type": "stream",
     "text": [
      "The Desjardins Flexi Visa card does offer some travel-related benefits. Here are a few:\n",
      "\n",
      "1. **Travel Insurance**: The card comes with travel insurance that covers you for up to 3 days, including trip cancellation, interruption, and delay insurance, as well as travel medical insurance.\n",
      "2. **Travel Assistance**: You'll have access to a 24/7 travel assistance service, which can help you with things like flight reservations, hotel bookings, and travel documentation.\n",
      "3. **Purchase Protection and Extended Warranty**: While not exclusively a travel benefit, the card's purchase protection and extended warranty can provide peace of mind when making travel-related purchases, such as luggage or travel gear.\n",
      "4. **Travel Discounts**: As a Desjardins member, you may be eligible for discounts on travel packages, flights, and hotels through Desjardins' travel agency, Desjardins Travel.\n",
      "\n",
      "It's worth noting that the Desjardins Flexi Visa card is a basic, no-fee credit card, so the travel benefits are not as comprehensive as those offered by more premium travel credit cards. If you're a frequent traveler, you may want to consider a card with more extensive travel benefits, such as travel rewards, airport lounge access, or more comprehensive travel insurance."
     ]
    }
   ],
   "source": [
    "# Travel Benefits\n",
    "\n",
    "completion = client.chat.completions.create(\n",
    "  model=\"meta/llama-3.1-405b-instruct\",\n",
    "  messages=[{\"role\":\"user\",\"content\":\"Does the Desjardins Flexi Visa have any travel benefits?\"}],\n",
    "  temperature=0.2,\n",
    "  top_p=0.7,\n",
    "  max_tokens=1024,\n",
    "  stream=True\n",
    ")\n",
    "\n",
    "for chunk in completion:\n",
    "  if chunk.choices[0].delta.content is not None:\n",
    "    print(chunk.choices[0].delta.content, end=\"\")"
   ]
  },
  {
   "cell_type": "code",
   "execution_count": 20,
   "metadata": {},
   "outputs": [
    {
     "name": "stdout",
     "output_type": "stream",
     "text": [
      "According to the Desjardins website, the Desjardins Flexi Visa card does offer a rewards program, but it's a bit different from traditional points-based programs.\n",
      "\n",
      "With the Desjardins Flexi Visa, you can earn BONUSDOLLARS, which are redeemable for cash back, travel, or other rewards. Here's how it works:\n",
      "\n",
      "* You earn 1% BONUSDOLLARS on all purchases made with your card.\n",
      "* You can redeem your BONUSDOLLARS for:\n",
      "\t+ Cash back: deposited directly into your Desjardins account\n",
      "\t+ Travel: booked through the Desjardins Travel Agency or online\n",
      "\t+ Other rewards: such as gift cards, merchandise, or charitable donations\n",
      "\n",
      "While the Desjardins Flexi Visa doesn't offer traditional points like some other credit cards, the BONUSDOLLARS program still provides a way to earn rewards on your purchases.\n",
      "\n",
      "Keep in mind that the rewards program may be subject to change, and there may be some conditions or restrictions on redeeming your BONUSDOLLARS. It's always a good idea to review the terms and conditions of your credit card agreement to understand the rewards program in more detail."
     ]
    }
   ],
   "source": [
    "# Signup Bonus, Points, Spending requirement\n",
    "\n",
    "completion = client.chat.completions.create(\n",
    "  model=\"meta/llama-3.1-405b-instruct\",\n",
    "  messages=[{\"role\":\"user\",\"content\":\"Does the Desjardins Flexi Visa have the ability to get you any sort of points?\"}],\n",
    "  temperature=0.2,\n",
    "  top_p=0.7,\n",
    "  max_tokens=1024,\n",
    "  stream=True\n",
    ")\n",
    "\n",
    "for chunk in completion:\n",
    "  if chunk.choices[0].delta.content is not None:\n",
    "    print(chunk.choices[0].delta.content, end=\"\")"
   ]
  },
  {
   "cell_type": "code",
   "execution_count": null,
   "metadata": {},
   "outputs": [],
   "source": [
    "# Insurance"
   ]
  },
  {
   "cell_type": "code",
   "execution_count": null,
   "metadata": {},
   "outputs": [],
   "source": [
    "# Annual fee...first year free?"
   ]
  }
 ],
 "metadata": {
  "kernelspec": {
   "display_name": "Python 3",
   "language": "python",
   "name": "python3"
  },
  "language_info": {
   "codemirror_mode": {
    "name": "ipython",
    "version": 3
   },
   "file_extension": ".py",
   "mimetype": "text/x-python",
   "name": "python",
   "nbconvert_exporter": "python",
   "pygments_lexer": "ipython3",
   "version": "3.12.7"
  }
 },
 "nbformat": 4,
 "nbformat_minor": 2
}
