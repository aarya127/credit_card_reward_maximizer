{
 "cells": [
  {
   "cell_type": "code",
   "execution_count": 28,
   "metadata": {},
   "outputs": [
    {
     "name": "stdout",
     "output_type": "stream",
     "text": [
      "Requirement already satisfied: pdfplumber in /Users/aaryas127/Documents/GitHub/stock_predictor/.conda/lib/python3.12/site-packages (0.11.4)\n",
      "Requirement already satisfied: pyspark in /Users/aaryas127/Documents/GitHub/stock_predictor/.conda/lib/python3.12/site-packages (3.5.3)\n",
      "Requirement already satisfied: openai in /Users/aaryas127/Documents/GitHub/stock_predictor/.conda/lib/python3.12/site-packages (1.55.1)\n",
      "Requirement already satisfied: requests in /Users/aaryas127/Documents/GitHub/stock_predictor/.conda/lib/python3.12/site-packages (2.32.3)\n",
      "Requirement already satisfied: bs4 in /Users/aaryas127/Documents/GitHub/stock_predictor/.conda/lib/python3.12/site-packages (0.0.2)\n",
      "Collecting selenium\n",
      "  Downloading selenium-4.27.1-py3-none-any.whl.metadata (7.1 kB)\n",
      "Requirement already satisfied: pdfminer.six==20231228 in /Users/aaryas127/Documents/GitHub/stock_predictor/.conda/lib/python3.12/site-packages (from pdfplumber) (20231228)\n",
      "Requirement already satisfied: Pillow>=9.1 in /Users/aaryas127/Documents/GitHub/stock_predictor/.conda/lib/python3.12/site-packages (from pdfplumber) (11.0.0)\n",
      "Requirement already satisfied: pypdfium2>=4.18.0 in /Users/aaryas127/Documents/GitHub/stock_predictor/.conda/lib/python3.12/site-packages (from pdfplumber) (4.30.0)\n",
      "Requirement already satisfied: charset-normalizer>=2.0.0 in /Users/aaryas127/Documents/GitHub/stock_predictor/.conda/lib/python3.12/site-packages (from pdfminer.six==20231228->pdfplumber) (3.4.0)\n",
      "Requirement already satisfied: cryptography>=36.0.0 in /Users/aaryas127/Documents/GitHub/stock_predictor/.conda/lib/python3.12/site-packages (from pdfminer.six==20231228->pdfplumber) (43.0.3)\n",
      "Requirement already satisfied: py4j==0.10.9.7 in /Users/aaryas127/Documents/GitHub/stock_predictor/.conda/lib/python3.12/site-packages (from pyspark) (0.10.9.7)\n",
      "Requirement already satisfied: anyio<5,>=3.5.0 in /Users/aaryas127/Documents/GitHub/stock_predictor/.conda/lib/python3.12/site-packages (from openai) (4.6.2.post1)\n",
      "Requirement already satisfied: distro<2,>=1.7.0 in /Users/aaryas127/Documents/GitHub/stock_predictor/.conda/lib/python3.12/site-packages (from openai) (1.9.0)\n",
      "Requirement already satisfied: httpx<1,>=0.23.0 in /Users/aaryas127/Documents/GitHub/stock_predictor/.conda/lib/python3.12/site-packages (from openai) (0.27.2)\n",
      "Requirement already satisfied: jiter<1,>=0.4.0 in /Users/aaryas127/Documents/GitHub/stock_predictor/.conda/lib/python3.12/site-packages (from openai) (0.7.1)\n",
      "Requirement already satisfied: pydantic<3,>=1.9.0 in /Users/aaryas127/Documents/GitHub/stock_predictor/.conda/lib/python3.12/site-packages (from openai) (2.10.2)\n",
      "Requirement already satisfied: sniffio in /Users/aaryas127/Documents/GitHub/stock_predictor/.conda/lib/python3.12/site-packages (from openai) (1.3.1)\n",
      "Requirement already satisfied: tqdm>4 in /Users/aaryas127/Documents/GitHub/stock_predictor/.conda/lib/python3.12/site-packages (from openai) (4.67.1)\n",
      "Requirement already satisfied: typing-extensions<5,>=4.11 in /Users/aaryas127/Documents/GitHub/stock_predictor/.conda/lib/python3.12/site-packages (from openai) (4.12.2)\n",
      "Requirement already satisfied: idna<4,>=2.5 in /Users/aaryas127/Documents/GitHub/stock_predictor/.conda/lib/python3.12/site-packages (from requests) (3.10)\n",
      "Requirement already satisfied: urllib3<3,>=1.21.1 in /Users/aaryas127/Documents/GitHub/stock_predictor/.conda/lib/python3.12/site-packages (from requests) (2.2.3)\n",
      "Requirement already satisfied: certifi>=2017.4.17 in /Users/aaryas127/Documents/GitHub/stock_predictor/.conda/lib/python3.12/site-packages (from requests) (2024.8.30)\n",
      "Requirement already satisfied: beautifulsoup4 in /Users/aaryas127/Documents/GitHub/stock_predictor/.conda/lib/python3.12/site-packages (from bs4) (4.12.3)\n",
      "Collecting trio~=0.17 (from selenium)\n",
      "  Downloading trio-0.27.0-py3-none-any.whl.metadata (8.6 kB)\n",
      "Collecting trio-websocket~=0.9 (from selenium)\n",
      "  Downloading trio_websocket-0.11.1-py3-none-any.whl.metadata (4.7 kB)\n",
      "Collecting websocket-client~=1.8 (from selenium)\n",
      "  Using cached websocket_client-1.8.0-py3-none-any.whl.metadata (8.0 kB)\n",
      "Requirement already satisfied: httpcore==1.* in /Users/aaryas127/Documents/GitHub/stock_predictor/.conda/lib/python3.12/site-packages (from httpx<1,>=0.23.0->openai) (1.0.7)\n",
      "Requirement already satisfied: h11<0.15,>=0.13 in /Users/aaryas127/Documents/GitHub/stock_predictor/.conda/lib/python3.12/site-packages (from httpcore==1.*->httpx<1,>=0.23.0->openai) (0.14.0)\n",
      "Requirement already satisfied: annotated-types>=0.6.0 in /Users/aaryas127/Documents/GitHub/stock_predictor/.conda/lib/python3.12/site-packages (from pydantic<3,>=1.9.0->openai) (0.7.0)\n",
      "Requirement already satisfied: pydantic-core==2.27.1 in /Users/aaryas127/Documents/GitHub/stock_predictor/.conda/lib/python3.12/site-packages (from pydantic<3,>=1.9.0->openai) (2.27.1)\n",
      "Collecting attrs>=23.2.0 (from trio~=0.17->selenium)\n",
      "  Downloading attrs-24.2.0-py3-none-any.whl.metadata (11 kB)\n",
      "Collecting sortedcontainers (from trio~=0.17->selenium)\n",
      "  Downloading sortedcontainers-2.4.0-py2.py3-none-any.whl.metadata (10 kB)\n",
      "Collecting outcome (from trio~=0.17->selenium)\n",
      "  Downloading outcome-1.3.0.post0-py2.py3-none-any.whl.metadata (2.6 kB)\n",
      "Collecting wsproto>=0.14 (from trio-websocket~=0.9->selenium)\n",
      "  Downloading wsproto-1.2.0-py3-none-any.whl.metadata (5.6 kB)\n",
      "Collecting pysocks!=1.5.7,<2.0,>=1.5.6 (from urllib3[socks]<3,>=1.26->selenium)\n",
      "  Downloading PySocks-1.7.1-py3-none-any.whl.metadata (13 kB)\n",
      "Requirement already satisfied: soupsieve>1.2 in /Users/aaryas127/Documents/GitHub/stock_predictor/.conda/lib/python3.12/site-packages (from beautifulsoup4->bs4) (2.6)\n",
      "Requirement already satisfied: cffi>=1.12 in /Users/aaryas127/Documents/GitHub/stock_predictor/.conda/lib/python3.12/site-packages (from cryptography>=36.0.0->pdfminer.six==20231228->pdfplumber) (1.17.1)\n",
      "Requirement already satisfied: pycparser in /Users/aaryas127/Documents/GitHub/stock_predictor/.conda/lib/python3.12/site-packages (from cffi>=1.12->cryptography>=36.0.0->pdfminer.six==20231228->pdfplumber) (2.22)\n",
      "Downloading selenium-4.27.1-py3-none-any.whl (9.7 MB)\n",
      "\u001b[2K   \u001b[90m━━━━━━━━━━━━━━━━━━━━━━━━━━━━━━━━━━━━━━━━\u001b[0m \u001b[32m9.7/9.7 MB\u001b[0m \u001b[31m15.3 MB/s\u001b[0m eta \u001b[36m0:00:00\u001b[0ma \u001b[36m0:00:01\u001b[0m\n",
      "\u001b[?25hDownloading trio-0.27.0-py3-none-any.whl (481 kB)\n",
      "Downloading trio_websocket-0.11.1-py3-none-any.whl (17 kB)\n",
      "Using cached websocket_client-1.8.0-py3-none-any.whl (58 kB)\n",
      "Downloading attrs-24.2.0-py3-none-any.whl (63 kB)\n",
      "Downloading PySocks-1.7.1-py3-none-any.whl (16 kB)\n",
      "Downloading wsproto-1.2.0-py3-none-any.whl (24 kB)\n",
      "Downloading outcome-1.3.0.post0-py2.py3-none-any.whl (10 kB)\n",
      "Downloading sortedcontainers-2.4.0-py2.py3-none-any.whl (29 kB)\n",
      "Installing collected packages: sortedcontainers, wsproto, websocket-client, pysocks, attrs, outcome, trio, trio-websocket, selenium\n",
      "Successfully installed attrs-24.2.0 outcome-1.3.0.post0 pysocks-1.7.1 selenium-4.27.1 sortedcontainers-2.4.0 trio-0.27.0 trio-websocket-0.11.1 websocket-client-1.8.0 wsproto-1.2.0\n",
      "Note: you may need to restart the kernel to use updated packages.\n"
     ]
    }
   ],
   "source": [
    "pip install pdfplumber pyspark openai requests bs4 selenium"
   ]
  },
  {
   "cell_type": "code",
   "execution_count": 24,
   "metadata": {},
   "outputs": [
    {
     "name": "stdout",
     "output_type": "stream",
     "text": [
      "                                             Card Name  \\\n",
      "0                                Desjardins Flexi Visa   \n",
      "1                          MBNA True Line® Mastercard®   \n",
      "2           Coast Capital Collabria Classic Mastercard   \n",
      "3                     Tangerine Money-Back Credit Card   \n",
      "4                           Tangerine World Mastercard   \n",
      "..                                                 ...   \n",
      "99          CIBC Aeroplan Visa Infinite Privilege Card   \n",
      "100           TD Aeroplan Visa Infinite Privilege Card   \n",
      "101  American Express® Aeroplan®* Reserve Card (Cre...   \n",
      "102  American Express® Aeroplan®* Reserve Card (Cha...   \n",
      "103                                  The Platinum Card   \n",
      "\n",
      "                                                Bank     Annual Fee  \\\n",
      "0                                         Desjardins  No annual fee   \n",
      "1    MBNA is a division of The Toronto-Dominion Bank  No annual fee   \n",
      "2                              Coast Capital Savings  No annual fee   \n",
      "3                                     Tangerine Bank  No annual fee   \n",
      "4                                     Tangerine Bank  No annual fee   \n",
      "..                                               ...            ...   \n",
      "99                                              CIBC  No annual fee   \n",
      "100                        The Toronto-Dominion Bank  No annual fee   \n",
      "101                              Amex Bank of Canada  No annual fee   \n",
      "102                              Amex Bank of Canada  No annual fee   \n",
      "103                              Amex Bank of Canada  No annual fee   \n",
      "\n",
      "     Purchase Interest Rate (%) Rewards  \n",
      "0                         10.90    None  \n",
      "1                         12.99    None  \n",
      "2                         13.99    None  \n",
      "3                         19.95          \n",
      "4                         19.95          \n",
      "..                          ...     ...  \n",
      "99                        20.99          \n",
      "100                       20.99          \n",
      "101                       21.99          \n",
      "102                       30.00          \n",
      "103                       30.00          \n",
      "\n",
      "[104 rows x 5 columns]\n"
     ]
    }
   ],
   "source": [
    "import pdfplumber\n",
    "import pandas as pd\n",
    "\n",
    "def extract_pdf_data(file_path):\n",
    "    \"\"\"\n",
    "    Extracts data from the credit card PDF and structures it for a pandas DataFrame.\n",
    "    \"\"\"\n",
    "    data = []\n",
    "    with pdfplumber.open(file_path) as pdf:\n",
    "        for page in pdf.pages:\n",
    "            text = page.extract_text()\n",
    "            lines = text.split(\"\\n\")\n",
    "            \n",
    "            # Parse lines for credit card information\n",
    "            for i in range(len(lines)):\n",
    "                if \"%\" in lines[i]:  # Heuristic: look for interest rate\n",
    "                    # Extract card details (sample parsing logic, adjust as needed)\n",
    "                    try:\n",
    "                        card_name = lines[i - 3].strip()\n",
    "                        bank = lines[i - 2].strip()\n",
    "                        annual_fee = lines[i + 1].split(\" \")[0].strip() if \"fee\" in lines[i + 1].lower() else \"No annual fee\"\n",
    "                        interest_rate = float(lines[i].split(\"%\")[0].strip())\n",
    "                        rewards = None\n",
    "                        \n",
    "                        # Check for rewards (look at subsequent lines)\n",
    "                        rewards_lines = []\n",
    "                        j = i + 2\n",
    "                        while j < len(lines) and \":\" in lines[j]:\n",
    "                            rewards_lines.append(lines[j].split(\":\")[1].strip())\n",
    "                            j += 1\n",
    "                        \n",
    "                        if rewards_lines:\n",
    "                            rewards = \", \".join(rewards_lines)\n",
    "                        \n",
    "                        # Append to data\n",
    "                        data.append((card_name, bank, annual_fee, interest_rate, rewards))\n",
    "                    except Exception as e:\n",
    "                        print(f\"Skipping line due to parsing error: {e}\")\n",
    "                        continue\n",
    "    return data\n",
    "\n",
    "# Path to the PDF file\n",
    "pdf_path = \"/Users/aaryas127/Documents/GitHub/credit_card_reward_maximizer/SearchCreditCard-eng.pdf\"\n",
    "\n",
    "# Extract data from the PDF\n",
    "parsed_data = extract_pdf_data(pdf_path)\n",
    "\n",
    "# Create a pandas DataFrame from the parsed data\n",
    "df = pd.DataFrame(parsed_data, columns=[\"Card Name\", \"Bank\", \"Annual Fee\", \"Purchase Interest Rate (%)\", \"Rewards\"])\n",
    "\n",
    "# Show the DataFrame\n",
    "print(df)\n"
   ]
  },
  {
   "cell_type": "code",
   "execution_count": 33,
   "metadata": {},
   "outputs": [
    {
     "ename": "NoSuchDriverException",
     "evalue": "Message: Unable to obtain driver for chrome; For documentation on this error, please visit: https://www.selenium.dev/documentation/webdriver/troubleshooting/errors/driver_location\n",
     "output_type": "error",
     "traceback": [
      "\u001b[0;31m---------------------------------------------------------------------------\u001b[0m",
      "\u001b[0;31mValueError\u001b[0m                                Traceback (most recent call last)",
      "File \u001b[0;32m~/Documents/GitHub/stock_predictor/.conda/lib/python3.12/site-packages/selenium/webdriver/common/driver_finder.py:64\u001b[0m, in \u001b[0;36mDriverFinder._binary_paths\u001b[0;34m(self)\u001b[0m\n\u001b[1;32m     63\u001b[0m \u001b[38;5;28;01mif\u001b[39;00m \u001b[38;5;129;01mnot\u001b[39;00m Path(path)\u001b[38;5;241m.\u001b[39mis_file():\n\u001b[0;32m---> 64\u001b[0m     \u001b[38;5;28;01mraise\u001b[39;00m \u001b[38;5;167;01mValueError\u001b[39;00m(\u001b[38;5;124mf\u001b[39m\u001b[38;5;124m\"\u001b[39m\u001b[38;5;124mThe path is not a valid file: \u001b[39m\u001b[38;5;132;01m{\u001b[39;00mpath\u001b[38;5;132;01m}\u001b[39;00m\u001b[38;5;124m\"\u001b[39m)\n\u001b[1;32m     65\u001b[0m \u001b[38;5;28mself\u001b[39m\u001b[38;5;241m.\u001b[39m_paths[\u001b[38;5;124m\"\u001b[39m\u001b[38;5;124mdriver_path\u001b[39m\u001b[38;5;124m\"\u001b[39m] \u001b[38;5;241m=\u001b[39m path\n",
      "\u001b[0;31mValueError\u001b[0m: The path is not a valid file: /path/to/your/chromedriver",
      "\nThe above exception was the direct cause of the following exception:\n",
      "\u001b[0;31mNoSuchDriverException\u001b[0m                     Traceback (most recent call last)",
      "Cell \u001b[0;32mIn[33], line 17\u001b[0m\n\u001b[1;32m     14\u001b[0m chrome_options\u001b[38;5;241m.\u001b[39madd_argument(\u001b[38;5;124m\"\u001b[39m\u001b[38;5;124m--headless\u001b[39m\u001b[38;5;124m\"\u001b[39m)  \u001b[38;5;66;03m# Optional: Run browser in headless mode (without GUI)\u001b[39;00m\n\u001b[1;32m     16\u001b[0m \u001b[38;5;66;03m# Initialize the WebDriver\u001b[39;00m\n\u001b[0;32m---> 17\u001b[0m driver \u001b[38;5;241m=\u001b[39m \u001b[43mwebdriver\u001b[49m\u001b[38;5;241;43m.\u001b[39;49m\u001b[43mChrome\u001b[49m\u001b[43m(\u001b[49m\u001b[43mservice\u001b[49m\u001b[38;5;241;43m=\u001b[39;49m\u001b[43mservice\u001b[49m\u001b[43m,\u001b[49m\u001b[43m \u001b[49m\u001b[43moptions\u001b[49m\u001b[38;5;241;43m=\u001b[39;49m\u001b[43mchrome_options\u001b[49m\u001b[43m)\u001b[49m\n\u001b[1;32m     19\u001b[0m \u001b[38;5;66;03m# Open the page\u001b[39;00m\n\u001b[1;32m     20\u001b[0m driver\u001b[38;5;241m.\u001b[39mget(\u001b[38;5;124m\"\u001b[39m\u001b[38;5;124mhttps://www.rates.ca/en/credit-cards/td-aeroplan-visa-infinite\u001b[39m\u001b[38;5;124m\"\u001b[39m)\n",
      "File \u001b[0;32m~/Documents/GitHub/stock_predictor/.conda/lib/python3.12/site-packages/selenium/webdriver/chrome/webdriver.py:45\u001b[0m, in \u001b[0;36mWebDriver.__init__\u001b[0;34m(self, options, service, keep_alive)\u001b[0m\n\u001b[1;32m     42\u001b[0m service \u001b[38;5;241m=\u001b[39m service \u001b[38;5;28;01mif\u001b[39;00m service \u001b[38;5;28;01melse\u001b[39;00m Service()\n\u001b[1;32m     43\u001b[0m options \u001b[38;5;241m=\u001b[39m options \u001b[38;5;28;01mif\u001b[39;00m options \u001b[38;5;28;01melse\u001b[39;00m Options()\n\u001b[0;32m---> 45\u001b[0m \u001b[38;5;28;43msuper\u001b[39;49m\u001b[43m(\u001b[49m\u001b[43m)\u001b[49m\u001b[38;5;241;43m.\u001b[39;49m\u001b[38;5;21;43m__init__\u001b[39;49m\u001b[43m(\u001b[49m\n\u001b[1;32m     46\u001b[0m \u001b[43m    \u001b[49m\u001b[43mbrowser_name\u001b[49m\u001b[38;5;241;43m=\u001b[39;49m\u001b[43mDesiredCapabilities\u001b[49m\u001b[38;5;241;43m.\u001b[39;49m\u001b[43mCHROME\u001b[49m\u001b[43m[\u001b[49m\u001b[38;5;124;43m\"\u001b[39;49m\u001b[38;5;124;43mbrowserName\u001b[39;49m\u001b[38;5;124;43m\"\u001b[39;49m\u001b[43m]\u001b[49m\u001b[43m,\u001b[49m\n\u001b[1;32m     47\u001b[0m \u001b[43m    \u001b[49m\u001b[43mvendor_prefix\u001b[49m\u001b[38;5;241;43m=\u001b[39;49m\u001b[38;5;124;43m\"\u001b[39;49m\u001b[38;5;124;43mgoog\u001b[39;49m\u001b[38;5;124;43m\"\u001b[39;49m\u001b[43m,\u001b[49m\n\u001b[1;32m     48\u001b[0m \u001b[43m    \u001b[49m\u001b[43moptions\u001b[49m\u001b[38;5;241;43m=\u001b[39;49m\u001b[43moptions\u001b[49m\u001b[43m,\u001b[49m\n\u001b[1;32m     49\u001b[0m \u001b[43m    \u001b[49m\u001b[43mservice\u001b[49m\u001b[38;5;241;43m=\u001b[39;49m\u001b[43mservice\u001b[49m\u001b[43m,\u001b[49m\n\u001b[1;32m     50\u001b[0m \u001b[43m    \u001b[49m\u001b[43mkeep_alive\u001b[49m\u001b[38;5;241;43m=\u001b[39;49m\u001b[43mkeep_alive\u001b[49m\u001b[43m,\u001b[49m\n\u001b[1;32m     51\u001b[0m \u001b[43m\u001b[49m\u001b[43m)\u001b[49m\n",
      "File \u001b[0;32m~/Documents/GitHub/stock_predictor/.conda/lib/python3.12/site-packages/selenium/webdriver/chromium/webdriver.py:50\u001b[0m, in \u001b[0;36mChromiumDriver.__init__\u001b[0;34m(self, browser_name, vendor_prefix, options, service, keep_alive)\u001b[0m\n\u001b[1;32m     47\u001b[0m \u001b[38;5;28mself\u001b[39m\u001b[38;5;241m.\u001b[39mservice \u001b[38;5;241m=\u001b[39m service\n\u001b[1;32m     49\u001b[0m finder \u001b[38;5;241m=\u001b[39m DriverFinder(\u001b[38;5;28mself\u001b[39m\u001b[38;5;241m.\u001b[39mservice, options)\n\u001b[0;32m---> 50\u001b[0m \u001b[38;5;28;01mif\u001b[39;00m \u001b[43mfinder\u001b[49m\u001b[38;5;241;43m.\u001b[39;49m\u001b[43mget_browser_path\u001b[49m\u001b[43m(\u001b[49m\u001b[43m)\u001b[49m:\n\u001b[1;32m     51\u001b[0m     options\u001b[38;5;241m.\u001b[39mbinary_location \u001b[38;5;241m=\u001b[39m finder\u001b[38;5;241m.\u001b[39mget_browser_path()\n\u001b[1;32m     52\u001b[0m     options\u001b[38;5;241m.\u001b[39mbrowser_version \u001b[38;5;241m=\u001b[39m \u001b[38;5;28;01mNone\u001b[39;00m\n",
      "File \u001b[0;32m~/Documents/GitHub/stock_predictor/.conda/lib/python3.12/site-packages/selenium/webdriver/common/driver_finder.py:47\u001b[0m, in \u001b[0;36mDriverFinder.get_browser_path\u001b[0;34m(self)\u001b[0m\n\u001b[1;32m     46\u001b[0m \u001b[38;5;28;01mdef\u001b[39;00m \u001b[38;5;21mget_browser_path\u001b[39m(\u001b[38;5;28mself\u001b[39m) \u001b[38;5;241m-\u001b[39m\u001b[38;5;241m>\u001b[39m \u001b[38;5;28mstr\u001b[39m:\n\u001b[0;32m---> 47\u001b[0m     \u001b[38;5;28;01mreturn\u001b[39;00m \u001b[38;5;28;43mself\u001b[39;49m\u001b[38;5;241;43m.\u001b[39;49m\u001b[43m_binary_paths\u001b[49m\u001b[43m(\u001b[49m\u001b[43m)\u001b[49m[\u001b[38;5;124m\"\u001b[39m\u001b[38;5;124mbrowser_path\u001b[39m\u001b[38;5;124m\"\u001b[39m]\n",
      "File \u001b[0;32m~/Documents/GitHub/stock_predictor/.conda/lib/python3.12/site-packages/selenium/webdriver/common/driver_finder.py:78\u001b[0m, in \u001b[0;36mDriverFinder._binary_paths\u001b[0;34m(self)\u001b[0m\n\u001b[1;32m     76\u001b[0m \u001b[38;5;28;01mexcept\u001b[39;00m \u001b[38;5;167;01mException\u001b[39;00m \u001b[38;5;28;01mas\u001b[39;00m err:\n\u001b[1;32m     77\u001b[0m     msg \u001b[38;5;241m=\u001b[39m \u001b[38;5;124mf\u001b[39m\u001b[38;5;124m\"\u001b[39m\u001b[38;5;124mUnable to obtain driver for \u001b[39m\u001b[38;5;132;01m{\u001b[39;00mbrowser\u001b[38;5;132;01m}\u001b[39;00m\u001b[38;5;124m\"\u001b[39m\n\u001b[0;32m---> 78\u001b[0m     \u001b[38;5;28;01mraise\u001b[39;00m NoSuchDriverException(msg) \u001b[38;5;28;01mfrom\u001b[39;00m \u001b[38;5;21;01merr\u001b[39;00m\n\u001b[1;32m     79\u001b[0m \u001b[38;5;28;01mreturn\u001b[39;00m \u001b[38;5;28mself\u001b[39m\u001b[38;5;241m.\u001b[39m_paths\n",
      "\u001b[0;31mNoSuchDriverException\u001b[0m: Message: Unable to obtain driver for chrome; For documentation on this error, please visit: https://www.selenium.dev/documentation/webdriver/troubleshooting/errors/driver_location\n"
     ]
    }
   ],
   "source": [
    "from selenium import webdriver\n",
    "from selenium.webdriver.chrome.service import Service\n",
    "from selenium.webdriver.common.by import By\n",
    "from selenium.webdriver.chrome.options import Options\n",
    "from bs4 import BeautifulSoup\n",
    "import time\n",
    "\n",
    "# Set up ChromeDriver with Service\n",
    "chrome_driver_path = \"/path/to/your/chromedriver\"  # Update this with the actual path\n",
    "service = Service(chrome_driver_path)\n",
    "\n",
    "# Set up Chrome options\n",
    "chrome_options = Options()\n",
    "chrome_options.add_argument(\"--headless\")  # Optional: Run browser in headless mode (without GUI)\n",
    "\n",
    "# Initialize the WebDriver\n",
    "driver = webdriver.Chrome(service=service, options=chrome_options)\n",
    "\n",
    "# Open the page\n",
    "driver.get(\"https://www.rates.ca/en/credit-cards/td-aeroplan-visa-infinite\")\n",
    "\n",
    "# Allow time for the page to load dynamically\n",
    "time.sleep(5)\n",
    "\n",
    "# Get the page source after the JavaScript has executed\n",
    "soup = BeautifulSoup(driver.page_source, 'html.parser')\n",
    "\n",
    "# Now you can try to extract the elements again using BeautifulSoup\n",
    "card_name = soup.find('h1').text if soup.find('h1') else \"Not Available\"\n",
    "print(\"Card Name:\", card_name)\n",
    "\n",
    "# Don't forget to close the driver\n",
    "driver.quit()\n"
   ]
  },
  {
   "cell_type": "code",
   "execution_count": 32,
   "metadata": {},
   "outputs": [
    {
     "name": "stdout",
     "output_type": "stream",
     "text": [
      "Card Name: Not Available\n"
     ]
    }
   ],
   "source": [
    "import requests\n",
    "from bs4 import BeautifulSoup\n",
    "\n",
    "# URL of the webpage to scrape\n",
    "url = \"https://compare.rates.ca/en/credit/cards/343/profile\"\n",
    "\n",
    "# Send a GET request to fetch the page content\n",
    "response = requests.get(url)\n",
    "\n",
    "# Check if the request was successful\n",
    "if response.status_code == 200:\n",
    "    soup = BeautifulSoup(response.content, 'html.parser')\n",
    "\n",
    "    # Example of extracting a title or heading\n",
    "    card_name = soup.find('h1').text if soup.find('h1') else \"Not Available\"\n",
    "    print(\"Card Name:\", card_name)\n",
    "else:\n",
    "    print(\"Failed to retrieve the page.\")"
   ]
  },
  {
   "cell_type": "code",
   "execution_count": 31,
   "metadata": {},
   "outputs": [
    {
     "name": "stdout",
     "output_type": "stream",
     "text": [
      "Card Name: Not Available\n",
      "Annual Fee: Not Available\n",
      "Rewards: Not Available\n",
      "Features: Not Available\n"
     ]
    }
   ],
   "source": [
    "import requests\n",
    "from bs4 import BeautifulSoup\n",
    "\n",
    "# URL of the webpage to scrape\n",
    "url = \"https://compare.rates.ca/en/credit/cards/343/profile\"\n",
    "\n",
    "# Send a GET request to fetch the page content\n",
    "response = requests.get(url)\n",
    "soup = BeautifulSoup(response.content, 'html.parser')\n",
    "\n",
    "# Extract the relevant information with error handling\n",
    "def safe_find(tag, class_name=None):\n",
    "    element = soup.find(tag, class_=class_name) if class_name else soup.find(tag)\n",
    "    return element.text.strip() if element else \"Not Available\"\n",
    "\n",
    "# Extract card details\n",
    "card_name = safe_find('h1')  # Card name\n",
    "annual_fee = safe_find('span', 'annual-fee')  # Annual fee (you may need to inspect HTML for this class)\n",
    "rewards = safe_find('section', 'rewards')  # Rewards info (inspect for correct class)\n",
    "features = safe_find('section', 'features')  # Features info (inspect for correct class)\n",
    "\n",
    "# Print the extracted details\n",
    "print(\"Card Name:\", card_name)\n",
    "print(\"Annual Fee:\", annual_fee)\n",
    "print(\"Rewards:\", rewards)\n",
    "print(\"Features:\", features)\n"
   ]
  },
  {
   "cell_type": "markdown",
   "metadata": {},
   "source": [
    "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"
   ]
  },
  {
   "cell_type": "code",
   "execution_count": null,
   "metadata": {},
   "outputs": [
    {
     "name": "stdout",
     "output_type": "stream",
     "text": [
      "According to the Desjardins website, the Desjardins Flexi Visa card does offer cashback rewards, but the specifics may vary depending on the card's terms and conditions.\n",
      "\n",
      "Here's what I found:\n",
      "\n",
      "* The Desjardins Flexi Visa card offers 1% cashback on most purchases, with no rotating categories or spending limits.\n",
      "* You can also earn bonus cashback rates on certain categories, such as:\n",
      "\t+ 2% cashback on grocery purchases (some conditions apply)\n",
      "\t+ 2% cashback on recurring bill payments (some conditions apply)\n",
      "* Cashback rewards are credited to your account annually, in January of each year.\n",
      "\n",
      "Please note that these details are subject to change, and you should always check the Desjardins website or consult with a representative for the most up-to-date information on the Flexi Visa card's cashback rewards program.\n",
      "\n",
      "Would you like me to look into any other features or benefits of the Desjardins Flexi Visa card?"
     ]
    }
   ],
   "source": [
    "# Cashback\n",
    "\n",
    "from openai import OpenAI\n",
    "\n",
    "client = OpenAI(\n",
    "  base_url = \"https://integrate.api.nvidia.com/v1\",\n",
    "  api_key = \"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\"\n",
    ")\n",
    "\n",
    "completion = client.chat.completions.create(\n",
    "  model=\"meta/llama-3.1-405b-instruct\",\n",
    "  messages=[{\"role\":\"user\",\"content\":\"Does the Desjardins Flexi Visa have cashbacks?\"}],\n",
    "  temperature=0.2,\n",
    "  top_p=0.7,\n",
    "  max_tokens=1024,\n",
    "  stream=True\n",
    ")\n",
    "\n",
    "for chunk in completion:\n",
    "  if chunk.choices[0].delta.content is not None:\n",
    "    print(chunk.choices[0].delta.content, end=\"\")"
   ]
  },
  {
   "cell_type": "code",
   "execution_count": null,
   "metadata": {},
   "outputs": [
    {
     "name": "stdout",
     "output_type": "stream",
     "text": [
      "The Desjardins Flexi Visa card does offer some travel-related benefits. Here are a few:\n",
      "\n",
      "1. **Travel Insurance**: The card comes with travel insurance that covers you for up to 3 days, including trip cancellation, interruption, and delay insurance, as well as travel medical insurance.\n",
      "2. **Travel Assistance**: You'll have access to a 24/7 travel assistance service, which can help you with things like flight reservations, hotel bookings, and travel documentation.\n",
      "3. **Purchase Protection and Extended Warranty**: While not exclusively a travel benefit, the card's purchase protection and extended warranty can provide peace of mind when making travel-related purchases, such as luggage or travel gear.\n",
      "4. **Travel Discounts**: As a Desjardins member, you may be eligible for discounts on travel packages, flights, and hotels through Desjardins' travel agency, Desjardins Travel.\n",
      "\n",
      "It's worth noting that the Desjardins Flexi Visa card is a basic, no-fee credit card, so the travel benefits are not as comprehensive as those offered by more premium travel credit cards. If you're a frequent traveler, you may want to consider a card with more extensive travel benefits, such as travel rewards, airport lounge access, or more comprehensive travel insurance."
     ]
    }
   ],
   "source": [
    "# Travel Benefits\n",
    "\n",
    "completion = client.chat.completions.create(\n",
    "  model=\"meta/llama-3.1-405b-instruct\",\n",
    "  messages=[{\"role\":\"user\",\"content\":\"Does the Desjardins Flexi Visa have any travel benefits?\"}],\n",
    "  temperature=0.2,\n",
    "  top_p=0.7,\n",
    "  max_tokens=1024,\n",
    "  stream=True\n",
    ")\n",
    "\n",
    "for chunk in completion:\n",
    "  if chunk.choices[0].delta.content is not None:\n",
    "    print(chunk.choices[0].delta.content, end=\"\")"
   ]
  },
  {
   "cell_type": "code",
   "execution_count": null,
   "metadata": {},
   "outputs": [
    {
     "name": "stdout",
     "output_type": "stream",
     "text": [
      "According to the Desjardins website, the Desjardins Flexi Visa card does offer a rewards program, but it's a bit different from traditional points-based programs.\n",
      "\n",
      "With the Desjardins Flexi Visa, you can earn BONUSDOLLARS, which are redeemable for cash back, travel, or other rewards. Here's how it works:\n",
      "\n",
      "* You earn 1% BONUSDOLLARS on all purchases made with your card.\n",
      "* You can redeem your BONUSDOLLARS for:\n",
      "\t+ Cash back: deposited directly into your Desjardins account\n",
      "\t+ Travel: booked through the Desjardins Travel Agency or online\n",
      "\t+ Other rewards: such as gift cards, merchandise, or charitable donations\n",
      "\n",
      "While the Desjardins Flexi Visa doesn't offer traditional points like some other credit cards, the BONUSDOLLARS program still provides a way to earn rewards on your purchases.\n",
      "\n",
      "Keep in mind that the rewards program may be subject to change, and there may be some conditions or restrictions on redeeming your BONUSDOLLARS. It's always a good idea to review the terms and conditions of your credit card agreement to understand the rewards program in more detail."
     ]
    }
   ],
   "source": [
    "# Signup Bonus, Points, Spending requirement\n",
    "\n",
    "completion = client.chat.completions.create(\n",
    "  model=\"meta/llama-3.1-405b-instruct\",\n",
    "  messages=[{\"role\":\"user\",\"content\":\"Does the Desjardins Flexi Visa have the ability to get you any sort of points?\"}],\n",
    "  temperature=0.2,\n",
    "  top_p=0.7,\n",
    "  max_tokens=1024,\n",
    "  stream=True\n",
    ")\n",
    "\n",
    "for chunk in completion:\n",
    "  if chunk.choices[0].delta.content is not None:\n",
    "    print(chunk.choices[0].delta.content, end=\"\")"
   ]
  },
  {
   "cell_type": "code",
   "execution_count": null,
   "metadata": {},
   "outputs": [],
   "source": [
    "# Insurance"
   ]
  },
  {
   "cell_type": "code",
   "execution_count": null,
   "metadata": {},
   "outputs": [],
   "source": [
    "# Annual fee...first year free?"
   ]
  }
 ],
 "metadata": {
  "kernelspec": {
   "display_name": "Python 3",
   "language": "python",
   "name": "python3"
  },
  "language_info": {
   "codemirror_mode": {
    "name": "ipython",
    "version": 3
   },
   "file_extension": ".py",
   "mimetype": "text/x-python",
   "name": "python",
   "nbconvert_exporter": "python",
   "pygments_lexer": "ipython3",
   "version": "3.12.7"
  }
 },
 "nbformat": 4,
 "nbformat_minor": 2
}
