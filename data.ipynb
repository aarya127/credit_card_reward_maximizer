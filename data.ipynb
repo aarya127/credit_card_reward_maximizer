{
 "cells": [
  {
   "cell_type": "code",
   "execution_count": null,
   "metadata": {},
   "outputs": [
    {
     "name": "stdout",
     "output_type": "stream",
     "text": [
      "Requirement already satisfied: PyPDF2 in /Users/aaryas127/Documents/GitHub/stock_predictor/.conda/lib/python3.12/site-packages (3.0.1)\n",
      "Requirement already satisfied: pyspark in /Users/aaryas127/Documents/GitHub/stock_predictor/.conda/lib/python3.12/site-packages (3.5.3)\n",
      "Requirement already satisfied: py4j==0.10.9.7 in /Users/aaryas127/Documents/GitHub/stock_predictor/.conda/lib/python3.12/site-packages (from pyspark) (0.10.9.7)\n",
      "Note: you may need to restart the kernel to use updated packages.\n"
     ]
    }
   ],
   "source": [
    "pip install pdfplumber pyspark"
   ]
  },
  {
   "cell_type": "code",
   "execution_count": 23,
   "metadata": {},
   "outputs": [
    {
     "name": "stderr",
     "output_type": "stream",
     "text": [
      "24/11/25 14:35:39 WARN SparkSession: Using an existing Spark session; only runtime SQL configurations will take effect.\n"
     ]
    },
    {
     "name": "stdout",
     "output_type": "stream",
     "text": [
      "+-------------+-----------------------------------------------+-------------+--------------------------+-------+\n",
      "|Card Name    |Bank                                           |Annual Fee   |Purchase Interest Rate (%)|Rewards|\n",
      "+-------------+-----------------------------------------------+-------------+--------------------------+-------+\n",
      "|No annual fee|Desjardins                                     |No annual fee|10.9                      |NULL   |\n",
      "|No annual fee|MBNA is a division of The Toronto-Dominion Bank|No annual fee|12.99                     |NULL   |\n",
      "|No annual fee|Coast Capital Savings                          |No annual fee|13.99                     |NULL   |\n",
      "|No annual fee|Tangerine Bank                                 |No annual fee|19.95                     |       |\n",
      "|No annual fee|Tangerine Bank                                 |No annual fee|19.95                     |       |\n",
      "|No annual fee|Coast Capital Savings                          |No annual fee|19.99                     |       |\n",
      "|No annual fee|MBNA is a division of The Toronto-Dominion Bank|No annual fee|19.99                     |       |\n",
      "|No annual fee|MBNA is a division of The Toronto-Dominion Bank|No annual fee|19.99                     |       |\n",
      "|No annual fee|Scotiabank                                     |No annual fee|19.99                     |       |\n",
      "|No annual fee|Scotiabank                                     |No annual fee|19.99                     |       |\n",
      "|No annual fee|The Toronto-Dominion Bank                      |No annual fee|19.99                     |       |\n",
      "|No annual fee|The Toronto-Dominion Bank                      |No annual fee|19.99                     |       |\n",
      "|No annual fee|Desjardins                                     |No annual fee|20.9                      |       |\n",
      "|No annual fee|Desjardins                                     |No annual fee|20.9                      |       |\n",
      "|No annual fee|Desjardins                                     |No annual fee|20.9                      |       |\n",
      "|No annual fee|BMO Bank of Montreal                           |No annual fee|20.99                     |       |\n",
      "|No annual fee|BMO Bank of Montreal                           |No annual fee|20.99                     |       |\n",
      "|No annual fee|BMO Bank of Montreal                           |No annual fee|20.99                     |       |\n",
      "|No annual fee|CIBC                                           |No annual fee|20.99                     |       |\n",
      "|No annual fee|CIBC                                           |No annual fee|20.99                     |       |\n",
      "+-------------+-----------------------------------------------+-------------+--------------------------+-------+\n",
      "only showing top 20 rows\n",
      "\n"
     ]
    }
   ],
   "source": [
    "import pdfplumber\n",
    "from pyspark.sql import SparkSession\n",
    "from pyspark.sql.types import StructType, StructField, StringType, FloatType\n",
    "\n",
    "# Initialize Spark session\n",
    "spark = SparkSession.builder.appName(\"PDFToSpark\").getOrCreate()\n",
    "\n",
    "# Define schema for the Spark DataFrame\n",
    "schema = StructType([\n",
    "    StructField(\"Card Name\", StringType(), True),\n",
    "    StructField(\"Bank\", StringType(), True),\n",
    "    StructField(\"Annual Fee\", StringType(), True),  # Keep as String to accommodate \"No annual fee\"\n",
    "    StructField(\"Purchase Interest Rate (%)\", FloatType(), True),\n",
    "    StructField(\"Rewards\", StringType(), True)\n",
    "])\n",
    "\n",
    "def extract_pdf_data(file_path):\n",
    "    \"\"\"\n",
    "    Extracts data from the credit card PDF and structures it for Spark DataFrame.\n",
    "    \"\"\"\n",
    "    data = []\n",
    "    with pdfplumber.open(file_path) as pdf:\n",
    "        for page in pdf.pages:\n",
    "            text = page.extract_text()\n",
    "            lines = text.split(\"\\n\")\n",
    "            \n",
    "            # Parse lines for credit card information\n",
    "            for i in range(len(lines)):\n",
    "                if \"%\" in lines[i]:  # Heuristic: look for interest rate\n",
    "                    # Extract card details (sample parsing logic, adjust as needed)\n",
    "                    try:\n",
    "                        card_name = lines[i - 1].strip()\n",
    "                        bank = lines[i - 2].strip()\n",
    "                        annual_fee = lines[i + 1].split(\" \")[0].strip() if \"fee\" in lines[i + 1].lower() else \"No annual fee\"\n",
    "                        interest_rate = float(lines[i].split(\"%\")[0].strip())\n",
    "                        rewards = None\n",
    "                        \n",
    "                        # Check for rewards (look at subsequent lines)\n",
    "                        rewards_lines = []\n",
    "                        j = i + 2\n",
    "                        while j < len(lines) and \":\" in lines[j]:\n",
    "                            rewards_lines.append(lines[j].split(\":\")[1].strip())\n",
    "                            j += 1\n",
    "                        \n",
    "                        if rewards_lines:\n",
    "                            rewards = \", \".join(rewards_lines)\n",
    "                        \n",
    "                        # Append to data\n",
    "                        data.append((card_name, bank, annual_fee, interest_rate, rewards))\n",
    "                    except Exception as e:\n",
    "                        print(f\"Skipping line due to parsing error: {e}\")\n",
    "                        continue\n",
    "    return data\n",
    "\n",
    "# Path to the PDF file\n",
    "pdf_path = \"/Users/aaryas127/Documents/GitHub/credit_card_reward_maximizer/SearchCreditCard-eng.pdf\"\n",
    "\n",
    "# Extract data from the PDF\n",
    "parsed_data = extract_pdf_data(pdf_path)\n",
    "\n",
    "# Create a Spark DataFrame from the parsed data\n",
    "df = spark.createDataFrame(parsed_data, schema=schema)\n",
    "\n",
    "# Show the DataFrame\n",
    "df.show(truncate=False)\n"
   ]
  }
 ],
 "metadata": {
  "kernelspec": {
   "display_name": "Python 3",
   "language": "python",
   "name": "python3"
  },
  "language_info": {
   "codemirror_mode": {
    "name": "ipython",
    "version": 3
   },
   "file_extension": ".py",
   "mimetype": "text/x-python",
   "name": "python",
   "nbconvert_exporter": "python",
   "pygments_lexer": "ipython3",
   "version": "3.12.7"
  }
 },
 "nbformat": 4,
 "nbformat_minor": 2
}
