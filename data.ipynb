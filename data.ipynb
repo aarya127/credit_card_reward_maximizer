{
 "cells": [
  {
   "cell_type": "code",
   "execution_count": 26,
   "metadata": {},
   "outputs": [
    {
     "name": "stdout",
     "output_type": "stream",
     "text": [
      "Requirement already satisfied: pdfplumber in /Users/aaryas127/Documents/GitHub/stock_predictor/.conda/lib/python3.12/site-packages (0.11.4)\n",
      "Requirement already satisfied: pyspark in /Users/aaryas127/Documents/GitHub/stock_predictor/.conda/lib/python3.12/site-packages (3.5.3)\n",
      "Requirement already satisfied: pdfminer.six==20231228 in /Users/aaryas127/Documents/GitHub/stock_predictor/.conda/lib/python3.12/site-packages (from pdfplumber) (20231228)\n",
      "Requirement already satisfied: Pillow>=9.1 in /Users/aaryas127/Documents/GitHub/stock_predictor/.conda/lib/python3.12/site-packages (from pdfplumber) (11.0.0)\n",
      "Requirement already satisfied: pypdfium2>=4.18.0 in /Users/aaryas127/Documents/GitHub/stock_predictor/.conda/lib/python3.12/site-packages (from pdfplumber) (4.30.0)\n",
      "Requirement already satisfied: charset-normalizer>=2.0.0 in /Users/aaryas127/Documents/GitHub/stock_predictor/.conda/lib/python3.12/site-packages (from pdfminer.six==20231228->pdfplumber) (3.4.0)\n",
      "Requirement already satisfied: cryptography>=36.0.0 in /Users/aaryas127/Documents/GitHub/stock_predictor/.conda/lib/python3.12/site-packages (from pdfminer.six==20231228->pdfplumber) (43.0.3)\n",
      "Requirement already satisfied: py4j==0.10.9.7 in /Users/aaryas127/Documents/GitHub/stock_predictor/.conda/lib/python3.12/site-packages (from pyspark) (0.10.9.7)\n",
      "Requirement already satisfied: cffi>=1.12 in /Users/aaryas127/Documents/GitHub/stock_predictor/.conda/lib/python3.12/site-packages (from cryptography>=36.0.0->pdfminer.six==20231228->pdfplumber) (1.17.1)\n",
      "Requirement already satisfied: pycparser in /Users/aaryas127/Documents/GitHub/stock_predictor/.conda/lib/python3.12/site-packages (from cffi>=1.12->cryptography>=36.0.0->pdfminer.six==20231228->pdfplumber) (2.22)\n",
      "Note: you may need to restart the kernel to use updated packages.\n"
     ]
    }
   ],
   "source": [
    "pip install pdfplumber pyspark"
   ]
  },
  {
   "cell_type": "code",
   "execution_count": 27,
   "metadata": {},
   "outputs": [
    {
     "name": "stdout",
     "output_type": "stream",
     "text": [
      "+------------------------------------------------------------+-----------------------------------------------+-------------+--------------------------+-------+\n",
      "|Card Name                                                   |Bank                                           |Annual Fee   |Purchase Interest Rate (%)|Rewards|\n",
      "+------------------------------------------------------------+-----------------------------------------------+-------------+--------------------------+-------+\n",
      "|Desjardins Flexi Visa                                       |Desjardins                                     |No annual fee|10.9                      |NULL   |\n",
      "|MBNA True Line® Mastercard®                                 |MBNA is a division of The Toronto-Dominion Bank|No annual fee|12.99                     |NULL   |\n",
      "|Coast Capital Collabria Classic Mastercard                  |Coast Capital Savings                          |No annual fee|13.99                     |NULL   |\n",
      "|Tangerine Money-Back Credit Card                            |Tangerine Bank                                 |No annual fee|19.95                     |       |\n",
      "|Tangerine World Mastercard                                  |Tangerine Bank                                 |No annual fee|19.95                     |       |\n",
      "|Coast Capital Collabria No Fee Cash Back Business Mastercard|Coast Capital Savings                          |No annual fee|19.99                     |       |\n",
      "|Amazon.ca Rewards Mastercard®                               |MBNA is a division of The Toronto-Dominion Bank|No annual fee|19.99                     |       |\n",
      "|MBNA Smart Cash® Platinum Plus® Mastercard®                 |MBNA is a division of The Toronto-Dominion Bank|No annual fee|19.99                     |       |\n",
      "|Scotia Momentum No-Fee VISA card                            |Scotiabank                                     |No annual fee|19.99                     |       |\n",
      "|Scotiabank American Express® Card                           |Scotiabank                                     |No annual fee|19.99                     |       |\n",
      "|TD Cash Back Visa* Card                                     |The Toronto-Dominion Bank                      |No annual fee|19.99                     |       |\n",
      "|TD Rewards Visa* Card                                       |The Toronto-Dominion Bank                      |No annual fee|19.99                     |       |\n",
      "|Desjardins Bonus Visa                                       |Desjardins                                     |No annual fee|20.9                      |       |\n",
      "|Desjardins Cash Back Mastercard                             |Desjardins                                     |No annual fee|20.9                      |       |\n",
      "|Desjardins Cash Back Visa                                   |Desjardins                                     |No annual fee|20.9                      |       |\n",
      "|BMO AIR MILES MasterCard                                    |BMO Bank of Montreal                           |No annual fee|20.99                     |       |\n",
      "|BMO CashBack Mastercard                                     |BMO Bank of Montreal                           |No annual fee|20.99                     |       |\n",
      "|BMO eclipse rise Visa Card                                  |BMO Bank of Montreal                           |No annual fee|20.99                     |       |\n",
      "|CIBC Aeroplan Visa Card                                     |CIBC                                           |No annual fee|20.99                     |       |\n",
      "|CIBC Aventura VISA Card                                     |CIBC                                           |No annual fee|20.99                     |       |\n",
      "+------------------------------------------------------------+-----------------------------------------------+-------------+--------------------------+-------+\n",
      "only showing top 20 rows\n",
      "\n"
     ]
    }
   ],
   "source": [
    "import pdfplumber\n",
    "from pyspark.sql import SparkSession\n",
    "from pyspark.sql.types import StructType, StructField, StringType, FloatType\n",
    "\n",
    "# Initialize Spark session\n",
    "spark = SparkSession.builder.appName(\"PDFToSpark\").getOrCreate()\n",
    "\n",
    "# Define schema for the Spark DataFrame\n",
    "schema = StructType([\n",
    "    StructField(\"Card Name\", StringType(), True),\n",
    "    StructField(\"Bank\", StringType(), True),\n",
    "    StructField(\"Annual Fee\", StringType(), True),  # Keep as String to accommodate \"No annual fee\"\n",
    "    StructField(\"Purchase Interest Rate (%)\", FloatType(), True),\n",
    "    StructField(\"Rewards\", StringType(), True)\n",
    "])\n",
    "\n",
    "def extract_pdf_data(file_path):\n",
    "    \"\"\"\n",
    "    Extracts data from the credit card PDF and structures it for Spark DataFrame.\n",
    "    \"\"\"\n",
    "    data = []\n",
    "    with pdfplumber.open(file_path) as pdf:\n",
    "        for page in pdf.pages:\n",
    "            text = page.extract_text()\n",
    "            lines = text.split(\"\\n\")\n",
    "            \n",
    "            # Parse lines for credit card information\n",
    "            for i in range(len(lines)):\n",
    "                if \"%\" in lines[i]:  # Heuristic: look for interest rate\n",
    "                    # Extract card details (sample parsing logic, adjust as needed)\n",
    "                    try:\n",
    "                        card_name = lines[i - 3].strip()\n",
    "                        bank = lines[i - 2].strip()\n",
    "                        annual_fee = lines[i + 1].split(\" \")[0].strip() if \"fee\" in lines[i + 1].lower() else \"No annual fee\"\n",
    "                        interest_rate = float(lines[i].split(\"%\")[0].strip())\n",
    "                        rewards = None\n",
    "                        \n",
    "                        # Check for rewards (look at subsequent lines)\n",
    "                        rewards_lines = []\n",
    "                        j = i + 2\n",
    "                        while j < len(lines) and \":\" in lines[j]:\n",
    "                            rewards_lines.append(lines[j].split(\":\")[1].strip())\n",
    "                            j += 1\n",
    "                        \n",
    "                        if rewards_lines:\n",
    "                            rewards = \", \".join(rewards_lines)\n",
    "                        \n",
    "                        # Append to data\n",
    "                        data.append((card_name, bank, annual_fee, interest_rate, rewards))\n",
    "                    except Exception as e:\n",
    "                        print(f\"Skipping line due to parsing error: {e}\")\n",
    "                        continue\n",
    "    return data\n",
    "\n",
    "# Path to the PDF file\n",
    "pdf_path = \"/Users/aaryas127/Documents/GitHub/credit_card_reward_maximizer/SearchCreditCard-eng.pdf\"\n",
    "\n",
    "# Extract data from the PDF\n",
    "parsed_data = extract_pdf_data(pdf_path)\n",
    "\n",
    "# Create a Spark DataFrame from the parsed data\n",
    "df = spark.createDataFrame(parsed_data, schema=schema)\n",
    "\n",
    "# Show the DataFrame\n",
    "df.show(truncate=False)\n"
   ]
  }
 ],
 "metadata": {
  "kernelspec": {
   "display_name": "Python 3",
   "language": "python",
   "name": "python3"
  },
  "language_info": {
   "codemirror_mode": {
    "name": "ipython",
    "version": 3
   },
   "file_extension": ".py",
   "mimetype": "text/x-python",
   "name": "python",
   "nbconvert_exporter": "python",
   "pygments_lexer": "ipython3",
   "version": "3.12.7"
  }
 },
 "nbformat": 4,
 "nbformat_minor": 2
}
